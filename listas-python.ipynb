{
 "cells": [
  {
   "cell_type": "code",
   "execution_count": 3,
   "id": "443ead41-10bc-4a13-a9a8-1b213c2e1e01",
   "metadata": {},
   "outputs": [
    {
     "name": "stdout",
     "output_type": "stream",
     "text": [
      "[1, 2, 3, 4, 5]\n"
     ]
    }
   ],
   "source": [
    "# Criação de uma lista:\n",
    "lista = [1, 2, 3, 4, 5]\n",
    "print(lista)  # Saída: [1, 2, 3, 4, 5]\n"
   ]
  },
  {
   "cell_type": "code",
   "execution_count": 4,
   "id": "4e282098-da9a-4b20-8838-5f93d6647a20",
   "metadata": {},
   "outputs": [
    {
     "name": "stdout",
     "output_type": "stream",
     "text": [
      "1\n",
      "5\n"
     ]
    }
   ],
   "source": [
    "# Acessando elementos da lista:\n",
    "lista = [1, 2, 3, 4, 5]\n",
    "print(lista[0])  # Saída: 1 (primeiro elemento)\n",
    "print(lista[-1]) # Saída: 5 (último elemento)\n"
   ]
  },
  {
   "cell_type": "code",
   "execution_count": 5,
   "id": "7d25e148-ce4d-4d3d-af59-18eb52620342",
   "metadata": {},
   "outputs": [
    {
     "name": "stdout",
     "output_type": "stream",
     "text": [
      "1\n",
      "2\n",
      "3\n",
      "4\n",
      "5\n"
     ]
    }
   ],
   "source": [
    "#Iterando sobre os elementos da lista:\n",
    "lista = [1, 2, 3, 4, 5]\n",
    "for elemento in lista:\n",
    "    print(elemento)\n",
    "\n"
   ]
  },
  {
   "cell_type": "code",
   "execution_count": 6,
   "id": "f0ed6116-72a0-4cd2-887c-aeb2350bc748",
   "metadata": {},
   "outputs": [
    {
     "name": "stdout",
     "output_type": "stream",
     "text": [
      "[1, 2, 3, 4]\n",
      "[1, 2, 3, 4, 5, 6]\n"
     ]
    }
   ],
   "source": [
    "#Adicionando elementos à lista:\n",
    "lista = [1, 2, 3]\n",
    "lista.append(4)\n",
    "print(lista)  # Saída: [1, 2, 3, 4]\n",
    "\n",
    "# Adicionar múltiplos elementos de uma vez\n",
    "lista.extend([5, 6])\n",
    "print(lista)  # Saída: [1, 2, 3, 4, 5, 6]\n"
   ]
  },
  {
   "cell_type": "code",
   "execution_count": 7,
   "id": "b5659789-848c-4365-942f-50392b4199bb",
   "metadata": {},
   "outputs": [
    {
     "name": "stdout",
     "output_type": "stream",
     "text": [
      "[1, 2, 4, 5]\n",
      "4\n",
      "[1, 2, 5]\n"
     ]
    }
   ],
   "source": [
    "#Removendo elementos da lista:\n",
    "lista = [1, 2, 3, 4, 5]\n",
    "lista.remove(3)\n",
    "print(lista)  # Saída: [1, 2, 4, 5]\n",
    "\n",
    "# Remover pelo índice\n",
    "elemento_removido = lista.pop(2)\n",
    "print(elemento_removido)  # Saída: 4\n",
    "print(lista)  # Saída: [1, 2, 5]\n",
    "\n"
   ]
  },
  {
   "cell_type": "code",
   "execution_count": 8,
   "id": "5f15df55-2519-455a-98b4-6f2c5b028e09",
   "metadata": {},
   "outputs": [
    {
     "name": "stdout",
     "output_type": "stream",
     "text": [
      "[1, 2, 3, 4, 5]\n",
      "[5, 4, 3, 2, 1]\n"
     ]
    }
   ],
   "source": [
    "#Ordenando e invertendo a lista:\n",
    "lista = [3, 1, 4, 2, 5]\n",
    "lista.sort()  # Ordena a lista\n",
    "print(lista)  # Saída: [1, 2, 3, 4, 5]\n",
    "\n",
    "lista.reverse()  # Inverte a ordem dos elementos\n",
    "print(lista)  # Saída: [5, 4, 3, 2, 1]\n"
   ]
  },
  {
   "cell_type": "code",
   "execution_count": 9,
   "id": "c2738674-c60f-4497-b677-3354971e93e2",
   "metadata": {},
   "outputs": [
    {
     "name": "stdout",
     "output_type": "stream",
     "text": [
      "3 está na lista.\n"
     ]
    }
   ],
   "source": [
    "#Verificando se um elemento está na lista:\n",
    "lista = [1, 2, 3, 4, 5]\n",
    "if 3 in lista:\n",
    "    print(\"3 está na lista.\")\n",
    "else:\n",
    "    print(\"3 não está na lista.\")\n",
    "# Saída: 3 está na lista.\n"
   ]
  },
  {
   "cell_type": "code",
   "execution_count": null,
   "id": "d508cb15-663a-4e9d-a520-6ffe53321787",
   "metadata": {},
   "outputs": [],
   "source": []
  }
 ],
 "metadata": {
  "kernelspec": {
   "display_name": "Python 3 (ipykernel)",
   "language": "python",
   "name": "python3"
  },
  "language_info": {
   "codemirror_mode": {
    "name": "ipython",
    "version": 3
   },
   "file_extension": ".py",
   "mimetype": "text/x-python",
   "name": "python",
   "nbconvert_exporter": "python",
   "pygments_lexer": "ipython3",
   "version": "3.11.7"
  }
 },
 "nbformat": 4,
 "nbformat_minor": 5
}
